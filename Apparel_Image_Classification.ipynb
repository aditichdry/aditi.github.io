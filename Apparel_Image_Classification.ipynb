{
  "cells": [
    {
      "cell_type": "code",
      "execution_count": null,
      "metadata": {
        "id": "cuJyQG7mYuNl"
      },
      "outputs": [],
      "source": []
    },
    {
      "cell_type": "markdown",
      "metadata": {
        "id": "yVrl5wQw3zmY"
      },
      "source": [
        " ***APPAREL IMAGE CLASSIFICATION USING CNN***"
      ]
    },
    {
      "cell_type": "markdown",
      "metadata": {},
      "source": []
    },
    {
      "cell_type": "markdown",
      "metadata": {
        "id": "56hHUlSi46uU"
      },
      "source": [
        "Group members:\n",
        "\n",
        ">AARUSHI RAY (2129002@kiit.ac.in / 8655738790)\n",
        "\n",
        "> ADITI CHOUDHURY (2129007@kiit.ac.in / 8280069615)\n",
        "\n",
        "\n",
        "\n",
        "\n",
        "\n",
        "\n"
      ]
    },
    {
      "cell_type": "markdown",
      "metadata": {
        "id": "RQi0PwXP6GTq"
      },
      "source": [
        "In this notebook, we will classify small images Fashion mnist dataset from tensorflow keras datasets. There are total 10 classes as shown below. We will use CNN for classification"
      ]
    },
    {
      "cell_type": "markdown",
      "metadata": {
        "id": "5O7iWtSO8VtK"
      },
      "source": [
        "![mnist_examples.png](data:image/png;base64,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)"
      ]
    },
    {
      "cell_type": "markdown",
      "metadata": {
        "id": "uGtjB8byqk6d"
      },
      "source": [
        "DATA PREPROCESSING"
      ]
    },
    {
      "cell_type": "markdown",
      "metadata": {
        "id": "wSlnPCigryZq"
      },
      "source": [
        "Importing necessary libraries"
      ]
    },
    {
      "cell_type": "code",
      "execution_count": 23,
      "metadata": {
        "id": "wHVgBBJ6KvkE"
      },
      "outputs": [],
      "source": [
        "import tensorflow as tf\n",
        "from tensorflow.keras import datasets, layers, models,callbacks\n",
        "import matplotlib.pyplot as plt\n",
        "import numpy as np"
      ]
    },
    {
      "cell_type": "markdown",
      "metadata": {
        "id": "6fiuS72Qr4y1"
      },
      "source": [
        "Loading dataset Fashion MNIST"
      ]
    },
    {
      "cell_type": "code",
      "execution_count": 3,
      "metadata": {
        "colab": {
          "base_uri": "https://localhost:8080/"
        },
        "id": "3M-wKmMZa2PZ",
        "outputId": "0f22ef5a-d593-43da-99d6-be107e67dcc3"
      },
      "outputs": [
        {
          "name": "stdout",
          "output_type": "stream",
          "text": [
            "Downloading data from https://storage.googleapis.com/tensorflow/tf-keras-datasets/train-labels-idx1-ubyte.gz\n",
            "29515/29515 [==============================] - 0s 0us/step\n",
            "Downloading data from https://storage.googleapis.com/tensorflow/tf-keras-datasets/train-images-idx3-ubyte.gz\n",
            "26421880/26421880 [==============================] - 0s 0us/step\n",
            "Downloading data from https://storage.googleapis.com/tensorflow/tf-keras-datasets/t10k-labels-idx1-ubyte.gz\n",
            "5148/5148 [==============================] - 0s 0us/step\n",
            "Downloading data from https://storage.googleapis.com/tensorflow/tf-keras-datasets/t10k-images-idx3-ubyte.gz\n",
            "4422102/4422102 [==============================] - 0s 0us/step\n"
          ]
        },
        {
          "data": {
            "text/plain": [
              "(60000, 28, 28)"
            ]
          },
          "execution_count": 3,
          "metadata": {},
          "output_type": "execute_result"
        }
      ],
      "source": [
        "(X_train,y_train),(X_test,y_test) = datasets.fashion_mnist.load_data()\n",
        "X_train.shape"
      ]
    },
    {
      "cell_type": "code",
      "execution_count": 4,
      "metadata": {
        "colab": {
          "base_uri": "https://localhost:8080/"
        },
        "id": "vpRsTtzpbpYl",
        "outputId": "632c709e-8b0d-4658-8fec-9aee6779233b"
      },
      "outputs": [
        {
          "data": {
            "text/plain": [
              "(10000, 28, 28)"
            ]
          },
          "execution_count": 4,
          "metadata": {},
          "output_type": "execute_result"
        }
      ],
      "source": [
        "X_test.shape"
      ]
    },
    {
      "cell_type": "markdown",
      "metadata": {
        "id": "xug_QbnC8sjd"
      },
      "source": [
        "Here we see there are 60000 training images and 10000 test images"
      ]
    },
    {
      "cell_type": "code",
      "execution_count": 5,
      "metadata": {
        "colab": {
          "base_uri": "https://localhost:8080/"
        },
        "id": "y_TvI2HSpaqV",
        "outputId": "dff0f574-46e9-496e-8b3d-32518dcc11ae"
      },
      "outputs": [
        {
          "data": {
            "text/plain": [
              "array([9, 0, 0, 3, 0], dtype=uint8)"
            ]
          },
          "execution_count": 5,
          "metadata": {},
          "output_type": "execute_result"
        }
      ],
      "source": [
        "y_train[:5]"
      ]
    },
    {
      "cell_type": "code",
      "execution_count": 6,
      "metadata": {
        "id": "NOaW4IZXoTKB"
      },
      "outputs": [],
      "source": [
        "classes = [\"T-shirt/top\",\"Trouser\",\"Pullover\",\"Dress\",\"Coat\",\"Sandal\",\"Shirt\",\"Sneaker\",\"Bag\",\"Ankle boot\"]"
      ]
    },
    {
      "cell_type": "markdown",
      "metadata": {
        "id": "_HiE99Dv9BoQ"
      },
      "source": [
        "creating a function to plot images along with their labels"
      ]
    },
    {
      "cell_type": "code",
      "execution_count": 7,
      "metadata": {
        "id": "c41bXaWjbx4Z"
      },
      "outputs": [],
      "source": [
        "def plot_sample(X,y,index):\n",
        "  plt.figure(figsize=(1,2))\n",
        "  plt.imshow(X[index])\n",
        "  plt.xlabel(classes[y[index]])"
      ]
    },
    {
      "cell_type": "code",
      "execution_count": 8,
      "metadata": {
        "colab": {
          "base_uri": "https://localhost:8080/",
          "height": 161
        },
        "id": "UR5Xu3SvpuLd",
        "outputId": "848e965f-7ffd-48cf-8a63-a7cb84a64a2c"
      },
      "outputs": [
        {
          "data": {
            "image/png": "[encoded data removed]",
            "text/plain": [
              "<Figure size 100x200 with 1 Axes>"
            ]
          },
          "metadata": {},
          "output_type": "display_data"
        }
      ],
      "source": [
        "plot_sample(X_train,y_train,0)"
      ]
    },
    {
      "cell_type": "code",
      "execution_count": 9,
      "metadata": {
        "colab": {
          "base_uri": "https://localhost:8080/",
          "height": 161
        },
        "id": "80RdxKfeqC5x",
        "outputId": "d100f654-66a6-4915-e314-26b4209c668f"
      },
      "outputs": [
        {
          "data": {
            "image/png": "[encoded data removed]",
            "text/plain": [
              "<Figure size 100x200 with 1 Axes>"
            ]
          },
          "metadata": {},
          "output_type": "display_data"
        }
      ],
      "source": [
        "plot_sample(X_train,y_train,70)"
      ]
    },
    {
      "cell_type": "markdown",
      "metadata": {
        "id": "DVpPqxwjqvHa"
      },
      "source": [
        "Normalising pixel values"
      ]
    },
    {
      "cell_type": "code",
      "execution_count": 10,
      "metadata": {
        "id": "t-eEKxzQqXbS"
      },
      "outputs": [],
      "source": [
        "X_train = X_train / 255\n",
        "X_test = X_test / 255"
      ]
    },
    {
      "cell_type": "markdown",
      "metadata": {
        "id": "ymh8t5Y1gPwO"
      },
      "source": [
        "MODEL BUILDING"
      ]
    },
    {
      "cell_type": "markdown",
      "metadata": {
        "id": "4371pKbNXeQ5"
      },
      "source": [
        "Defining a custom CNN architecture"
      ]
    },
    {
      "cell_type": "code",
      "execution_count": 18,
      "metadata": {
        "id": "Mlr2grdMrW7l"
      },
      "outputs": [],
      "source": [
        "cnn = models.Sequential([\n",
        "    #cnn\n",
        "    layers.Conv2D(filters=32, kernel_size=(3,3), activation='relu', input_shape=(28,28,1)),\n",
        "    layers.MaxPooling2D((2,2)),\n",
        "    layers.Conv2D(filters=32, kernel_size=(3,3), activation='relu'),\n",
        "    layers.MaxPooling2D((2,2)),\n",
        "\n",
        "    #dense\n",
        "    layers.Flatten(),\n",
        "    layers.Dense(128, activation='relu'),\n",
        "    layers.Dropout(0.3),\n",
        "    layers.Dense(10, activation='softmax')\n",
        "])"
      ]
    },
    {
      "cell_type": "code",
      "execution_count": 21,
      "metadata": {
        "id": "JDgTkf5Abme9"
      },
      "outputs": [],
      "source": [
        "cnn.compile(optimizer='adam',\n",
        "              loss='sparse_categorical_crossentropy',\n",
        "              metrics=['accuracy'])"
      ]
    },
    {
      "cell_type": "markdown",
      "metadata": {
        "id": "L_fwjfAM96oy"
      },
      "source": [
        "Displaying the model architechture"
      ]
    },
    {
      "cell_type": "code",
      "execution_count": 27,
      "metadata": {
        "colab": {
          "base_uri": "https://localhost:8080/"
        },
        "id": "oA2NSgiSgYqh",
        "outputId": "602e8af3-c6b9-48ca-f9af-f02a36eafc63"
      },
      "outputs": [
        {
          "name": "stdout",
          "output_type": "stream",
          "text": [
            "Model: \"sequential\"\n",
            "_________________________________________________________________\n",
            " Layer (type)                Output Shape              Param #   \n",
            "=================================================================\n",
            " conv2d_2 (Conv2D)           (None, 26, 26, 32)        320       \n",
            "                                                                 \n",
            " max_pooling2d_2 (MaxPoolin  (None, 13, 13, 32)        0         \n",
            " g2D)                                                            \n",
            "                                                                 \n",
            " conv2d_3 (Conv2D)           (None, 11, 11, 32)        9248      \n",
            "                                                                 \n",
            " max_pooling2d_3 (MaxPoolin  (None, 5, 5, 32)          0         \n",
            " g2D)                                                            \n",
            "                                                                 \n",
            " flatten_1 (Flatten)         (None, 800)               0         \n",
            "                                                                 \n",
            " dense (Dense)               (None, 128)               102528    \n",
            "                                                                 \n",
            " dropout (Dropout)           (None, 128)               0         \n",
            "                                                                 \n",
            " dense_1 (Dense)             (None, 10)                1290      \n",
            "                                                                 \n",
            "=================================================================\n",
            "Total params: 113386 (442.91 KB)\n",
            "Trainable params: 113386 (442.91 KB)\n",
            "Non-trainable params: 0 (0.00 Byte)\n",
            "_________________________________________________________________\n"
          ]
        }
      ],
      "source": [
        "cnn.summary()"
      ]
    },
    {
      "cell_type": "markdown",
      "metadata": {
        "id": "5ZrkUY7Lge1i"
      },
      "source": [
        "TESTING AND VALIDATION"
      ]
    },
    {
      "cell_type": "code",
      "execution_count": 24,
      "metadata": {
        "id": "HRlEA6T5cEwH"
      },
      "outputs": [],
      "source": [
        "early_stopping = callbacks.EarlyStopping(\n",
        "    monitor = 'val_loss',\n",
        "    patience = 5,\n",
        "    restore_best_weights=True\n",
        ")"
      ]
    },
    {
      "cell_type": "code",
      "execution_count": 25,
      "metadata": {
        "id": "0F_j3VMueOjA"
      },
      "outputs": [],
      "source": [
        "model_checkpoint = callbacks.ModelCheckpoint(\n",
        "    'fashion_mnist_best_model.h5',\n",
        "    save_best_only = True\n",
        ")"
      ]
    },
    {
      "cell_type": "markdown",
      "metadata": {
        "id": "lxt_YogXehm4"
      },
      "source": [
        "Hyperparameters"
      ]
    },
    {
      "cell_type": "code",
      "execution_count": 26,
      "metadata": {
        "id": "tk0T_Q5Qef1H"
      },
      "outputs": [],
      "source": [
        "NUM_EPOCHS = 30\n",
        "BATCH_SIZE = 64"
      ]
    },
    {
      "cell_type": "code",
      "execution_count": 28,
      "metadata": {
        "colab": {
          "base_uri": "https://localhost:8080/"
        },
        "id": "gwiui1VbeqA5",
        "outputId": "a75becc2-6045-42ab-fea2-c9c14565c9d5"
      },
      "outputs": [
        {
          "name": "stdout",
          "output_type": "stream",
          "text": [
            "Epoch 1/30\n",
            "750/750 [==============================] - 21s 27ms/step - loss: 0.6124 - accuracy: 0.7766 - val_loss: 0.3999 - val_accuracy: 0.8542\n",
            "Epoch 2/30\n",
            "  3/750 [..............................] - ETA: 26s - loss: 0.5078 - accuracy: 0.8281"
          ]
        },
        {
          "name": "stderr",
          "output_type": "stream",
          "text": [
            "/usr/local/lib/python3.10/dist-packages/keras/src/engine/training.py:3000: UserWarning: You are saving your model as an HDF5 file via `model.save()`. This file format is considered legacy. We recommend using instead the native Keras format, e.g. `model.save('my_model.keras')`.\n",
            "  saving_api.save_model(\n"
          ]
        },
        {
          "name": "stdout",
          "output_type": "stream",
          "text": [
            "750/750 [==============================] - 19s 25ms/step - loss: 0.3966 - accuracy: 0.8576 - val_loss: 0.3436 - val_accuracy: 0.8714\n",
            "Epoch 3/30\n",
            "750/750 [==============================] - 19s 25ms/step - loss: 0.3451 - accuracy: 0.8767 - val_loss: 0.3366 - val_accuracy: 0.8763\n",
            "Epoch 4/30\n",
            "750/750 [==============================] - 18s 24ms/step - loss: 0.3115 - accuracy: 0.8863 - val_loss: 0.3021 - val_accuracy: 0.8880\n",
            "Epoch 5/30\n",
            "750/750 [==============================] - 19s 25ms/step - loss: 0.2870 - accuracy: 0.8943 - val_loss: 0.2793 - val_accuracy: 0.8970\n",
            "Epoch 6/30\n",
            "750/750 [==============================] - 18s 24ms/step - loss: 0.2693 - accuracy: 0.9005 - val_loss: 0.2662 - val_accuracy: 0.9011\n",
            "Epoch 7/30\n",
            "750/750 [==============================] - 19s 25ms/step - loss: 0.2545 - accuracy: 0.9072 - val_loss: 0.2565 - val_accuracy: 0.9060\n",
            "Epoch 8/30\n",
            "750/750 [==============================] - 19s 25ms/step - loss: 0.2424 - accuracy: 0.9098 - val_loss: 0.2598 - val_accuracy: 0.9052\n",
            "Epoch 9/30\n",
            "750/750 [==============================] - 19s 25ms/step - loss: 0.2265 - accuracy: 0.9167 - val_loss: 0.2448 - val_accuracy: 0.9095\n",
            "Epoch 10/30\n",
            "750/750 [==============================] - 18s 24ms/step - loss: 0.2176 - accuracy: 0.9192 - val_loss: 0.2478 - val_accuracy: 0.9081\n",
            "Epoch 11/30\n",
            "750/750 [==============================] - 19s 25ms/step - loss: 0.2041 - accuracy: 0.9251 - val_loss: 0.2464 - val_accuracy: 0.9118\n",
            "Epoch 12/30\n",
            "750/750 [==============================] - 18s 24ms/step - loss: 0.1950 - accuracy: 0.9267 - val_loss: 0.2446 - val_accuracy: 0.9142\n",
            "Epoch 13/30\n",
            "750/750 [==============================] - 19s 25ms/step - loss: 0.1863 - accuracy: 0.9304 - val_loss: 0.2578 - val_accuracy: 0.9107\n",
            "Epoch 14/30\n",
            "750/750 [==============================] - 19s 26ms/step - loss: 0.1769 - accuracy: 0.9336 - val_loss: 0.2421 - val_accuracy: 0.9145\n",
            "Epoch 15/30\n",
            "750/750 [==============================] - 18s 24ms/step - loss: 0.1686 - accuracy: 0.9349 - val_loss: 0.2556 - val_accuracy: 0.9101\n",
            "Epoch 16/30\n",
            "750/750 [==============================] - 19s 25ms/step - loss: 0.1612 - accuracy: 0.9395 - val_loss: 0.2497 - val_accuracy: 0.9143\n",
            "Epoch 17/30\n",
            "750/750 [==============================] - 18s 24ms/step - loss: 0.1560 - accuracy: 0.9407 - val_loss: 0.2484 - val_accuracy: 0.9161\n",
            "Epoch 18/30\n",
            "750/750 [==============================] - 19s 26ms/step - loss: 0.1491 - accuracy: 0.9429 - val_loss: 0.2545 - val_accuracy: 0.9158\n",
            "Epoch 19/30\n",
            "750/750 [==============================] - 18s 24ms/step - loss: 0.1447 - accuracy: 0.9441 - val_loss: 0.2699 - val_accuracy: 0.9147\n"
          ]
        }
      ],
      "source": [
        "history = cnn.fit(\n",
        "    X_train, y_train,\n",
        "    epochs=NUM_EPOCHS,\n",
        "    batch_size=BATCH_SIZE,\n",
        "    validation_split=0.2,\n",
        "    callbacks=[early_stopping, model_checkpoint]\n",
        ")"
      ]
    },
    {
      "cell_type": "code",
      "execution_count": 30,
      "metadata": {
        "colab": {
          "base_uri": "https://localhost:8080/"
        },
        "id": "eA0bLm7Nku5e",
        "outputId": "bc239429-8019-4779-c524-561007530db3"
      },
      "outputs": [
        {
          "name": "stdout",
          "output_type": "stream",
          "text": [
            "313/313 [==============================] - 1s 4ms/step - loss: 0.2591 - accuracy: 0.9102\n"
          ]
        }
      ],
      "source": [
        "test_loss,test_accuracy=cnn.evaluate(X_test,y_test)"
      ]
    },
    {
      "cell_type": "markdown",
      "metadata": {
        "id": "uuwgWJlX-LVh"
      },
      "source": [
        "We get an accuracy of 91.02% at the end of 19 epochs with CNN"
      ]
    },
    {
      "cell_type": "markdown",
      "metadata": {
        "id": "CGUbaEe1-lid"
      },
      "source": [
        "INFERENCE"
      ]
    },
    {
      "cell_type": "markdown",
      "metadata": {
        "id": "vhlcGDNh-sKU"
      },
      "source": [
        "Plotting training History"
      ]
    },
    {
      "cell_type": "code",
      "execution_count": 31,
      "metadata": {
        "colab": {
          "base_uri": "https://localhost:8080/",
          "height": 487
        },
        "id": "Jfuiqdckz3uK",
        "outputId": "49db0a90-6f91-42d2-cc3b-f5a5e66e6605"
      },
      "outputs": [
        {
          "data": {
            "image/png": "[encoded data removed]",
            "text/plain": [
              "<Figure size 1000x500 with 2 Axes>"
            ]
          },
          "metadata": {},
          "output_type": "display_data"
        }
      ],
      "source": [
        "plt.figure(figsize=(10, 5))\n",
        "plt.subplot(1, 2, 1)\n",
        "plt.plot(history.history['accuracy'])\n",
        "plt.plot(history.history['val_accuracy'])\n",
        "plt.title('Model accuracy')\n",
        "plt.xlabel('Epoch')\n",
        "plt.ylabel('Accuracy')\n",
        "plt.legend(['Train', 'Validation'], loc='upper left')\n",
        "\n",
        "plt.subplot(1, 2, 2)\n",
        "plt.plot(history.history['loss'])\n",
        "plt.plot(history.history['val_loss'])\n",
        "plt.title('Model loss')\n",
        "plt.xlabel('Epoch')\n",
        "plt.ylabel('Loss')\n",
        "plt.legend(['Train', 'Validation'], loc='upper left')\n",
        "\n",
        "plt.show()"
      ]
    },
    {
      "cell_type": "code",
      "execution_count": 35,
      "metadata": {
        "colab": {
          "base_uri": "https://localhost:8080/"
        },
        "id": "2nyvl3Fy10qm",
        "outputId": "3b04d306-ae72-479d-e96a-c78d8e342f3e"
      },
      "outputs": [
        {
          "data": {
            "text/plain": [
              "['T-shirt/top',\n",
              " 'Trouser',\n",
              " 'Pullover',\n",
              " 'Dress',\n",
              " 'Coat',\n",
              " 'Sandal',\n",
              " 'Shirt',\n",
              " 'Sneaker',\n",
              " 'Bag',\n",
              " 'Ankle boot']"
            ]
          },
          "execution_count": 35,
          "metadata": {},
          "output_type": "execute_result"
        }
      ],
      "source": [
        "classes"
      ]
    },
    {
      "cell_type": "code",
      "execution_count": 32,
      "metadata": {
        "colab": {
          "base_uri": "https://localhost:8080/"
        },
        "id": "phSvdgHM0sw9",
        "outputId": "110d5f6c-abf0-499b-f146-0c2014a91fef"
      },
      "outputs": [
        {
          "name": "stdout",
          "output_type": "stream",
          "text": [
            "313/313 [==============================] - 1s 4ms/step\n"
          ]
        },
        {
          "data": {
            "text/plain": [
              "[9, 2, 1, 1, 6]"
            ]
          },
          "execution_count": 32,
          "metadata": {},
          "output_type": "execute_result"
        }
      ],
      "source": [
        "y_pred = cnn.predict(X_test)\n",
        "y_classes= [np.argmax(element) for element in y_pred]\n",
        "y_classes[:5]"
      ]
    },
    {
      "cell_type": "code",
      "execution_count": 33,
      "metadata": {
        "colab": {
          "base_uri": "https://localhost:8080/"
        },
        "id": "q4MFTrOy1WmM",
        "outputId": "b4967b44-e396-421f-fbba-e5bfa2da2d2a"
      },
      "outputs": [
        {
          "data": {
            "text/plain": [
              "array([9, 2, 1, 1, 6], dtype=uint8)"
            ]
          },
          "execution_count": 33,
          "metadata": {},
          "output_type": "execute_result"
        }
      ],
      "source": [
        "y_test[:5]"
      ]
    },
    {
      "cell_type": "markdown",
      "metadata": {
        "id": "yQ1zSKpe-9fo"
      },
      "source": [
        "Testing"
      ]
    },
    {
      "cell_type": "code",
      "execution_count": 42,
      "metadata": {
        "colab": {
          "base_uri": "https://localhost:8080/",
          "height": 161
        },
        "id": "k6aOfdza2LIl",
        "outputId": "500a82e8-333f-44ed-b15f-3bf6c6c82637"
      },
      "outputs": [
        {
          "data": {
            "image/png": "[encoded data removed]",
            "text/plain": [
              "<Figure size 100x200 with 1 Axes>"
            ]
          },
          "metadata": {},
          "output_type": "display_data"
        }
      ],
      "source": [
        "plot_sample(X_test,y_test,97)"
      ]
    },
    {
      "cell_type": "code",
      "execution_count": 43,
      "metadata": {
        "colab": {
          "base_uri": "https://localhost:8080/",
          "height": 35
        },
        "id": "WFV4SIcN2SNK",
        "outputId": "665fba55-64d2-4d32-9b75-4d803cf52270"
      },
      "outputs": [
        {
          "data": {
            "application/vnd.google.colaboratory.intrinsic+json": {
              "type": "string"
            },
            "text/plain": [
              "'Trouser'"
            ]
          },
          "execution_count": 43,
          "metadata": {},
          "output_type": "execute_result"
        }
      ],
      "source": [
        "classes[y_classes[97]]"
      ]
    },
    {
      "cell_type": "code",
      "execution_count": 45,
      "metadata": {
        "colab": {
          "base_uri": "https://localhost:8080/"
        },
        "id": "1gkKJ2Q52u18",
        "outputId": "29be53bc-4e48-4583-f0fb-f545a5febdcc"
      },
      "outputs": [
        {
          "name": "stdout",
          "output_type": "stream",
          "text": [
            "Classification Report: \n",
            "               precision    recall  f1-score   support\n",
            "\n",
            "           0       0.82      0.90      0.86      1000\n",
            "           1       0.99      0.98      0.99      1000\n",
            "           2       0.88      0.87      0.87      1000\n",
            "           3       0.93      0.90      0.91      1000\n",
            "           4       0.84      0.89      0.86      1000\n",
            "           5       0.98      0.99      0.98      1000\n",
            "           6       0.77      0.68      0.73      1000\n",
            "           7       0.96      0.95      0.95      1000\n",
            "           8       0.98      0.97      0.98      1000\n",
            "           9       0.96      0.97      0.97      1000\n",
            "\n",
            "    accuracy                           0.91     10000\n",
            "   macro avg       0.91      0.91      0.91     10000\n",
            "weighted avg       0.91      0.91      0.91     10000\n",
            "\n"
          ]
        }
      ],
      "source": [
        "from sklearn.metrics import confusion_matrix , classification_report\n",
        "print(\"Classification Report: \\n\", classification_report(y_test,y_classes))"
      ]
    },
    {
      "cell_type": "markdown",
      "metadata": {
        "id": "xffeMAhNdGTZ"
      },
      "source": [
        "**PROJECT REPORT**"
      ]
    },
    {
      "cell_type": "markdown",
      "metadata": {
        "id": "IucUDnlTY2m5"
      },
      "source": [
        "**Project Title**: Apparel Image Classification\n",
        "\n",
        "**Objective**: The project aimed to identify different pieces of apparel spread over 10 classes.\n",
        "\n",
        "**Methods**: We utilized a Convolution Neural Network ARchitecture  to achieve our objectives.\n",
        "\n",
        "**Key Findings**: Our project resulted in a accuracy of 91.02% for generating the correct label according to the label.\n",
        "\n",
        "**Work Division**: Aditi Choudhury : Data Collection, Data Preprocessing and azure.\n",
        "Aarushi Ray : Model Building, Testing and Validation,\n",
        " Inference, Project Summarization.\n",
        "\n",
        "In summary, we have successfully applied Convolutional Neural Networks (CNNs) to perform image classification on the Fashion MNIST dataset.\n",
        "This project showcases the power and versatility of CNNs in image classification tasks. It demonstrates their potential to revolutionize the way we categorize and analyze visual data, with applications extending far beyond fashion recognition. As technology continues to advance, CNNs remain a pivotal tool for solving complex image-based challenges in the modern era.\n",
        "\n",
        "\n",
        "\n",
        "\n",
        "\n",
        "\n",
        "\n"
      ]
    }
  ],
  "metadata": {
    "colab": {
      "provenance": []
    },
    "kernelspec": {
      "display_name": "Python 3",
      "name": "python3"
    },
    "language_info": {
      "name": "python"
    }
  },
  "nbformat": 4,
  "nbformat_minor": 0
}
